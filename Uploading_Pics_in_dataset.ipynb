{
 "cells": [
  {
   "cell_type": "code",
   "execution_count": 32,
   "metadata": {},
   "outputs": [],
   "source": [
    "import os\n",
    "import pandas as pd\n",
    "\n",
    "train_folder = '/Users/harshartwani/Downloads/IIT_Kharagpur Dataset/ISED_database/peakImages'\n",
    "\n",
    "files_in_train = sorted(os.listdir(train_folder))\n",
    "\n",
    "images=[i for i in files_in_train]\n",
    "\n",
    "df = pd.DataFrame()\n",
    "df['images']=[train_folder+str(x) for x in images]"
   ]
  },
  {
   "cell_type": "code",
   "execution_count": 31,
   "metadata": {},
   "outputs": [],
   "source": [
    "df.to_csv('/Users/harshartwani/Downloads/IIT_Kharagpur Dataset/ISED_database/data.csv')"
   ]
  },
  {
   "cell_type": "code",
   "execution_count": null,
   "metadata": {},
   "outputs": [],
   "source": []
  }
 ],
 "metadata": {
  "kernelspec": {
   "display_name": "Python 3",
   "language": "python",
   "name": "python3"
  },
  "language_info": {
   "codemirror_mode": {
    "name": "ipython",
    "version": 3
   },
   "file_extension": ".py",
   "mimetype": "text/x-python",
   "name": "python",
   "nbconvert_exporter": "python",
   "pygments_lexer": "ipython3",
   "version": "3.7.4"
  }
 },
 "nbformat": 4,
 "nbformat_minor": 2
}
