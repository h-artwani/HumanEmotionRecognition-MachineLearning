{
 "cells": [
  {
   "cell_type": "code",
   "execution_count": 2,
   "metadata": {},
   "outputs": [
    {
     "name": "stdout",
     "output_type": "stream",
     "text": [
      "Read Emotion CSV\n",
      "Reading END\n",
      "Main End\n"
     ]
    }
   ],
   "source": [
    "from PyQt5 import QtWidgets\n",
    "import sys\n",
    "import os\n",
    "\n",
    "from code.ui import Ui_MainWindow\n",
    "\n",
    "app = QtWidgets.QApplication(sys.argv)\n",
    "MainWindow = QtWidgets.QMainWindow()\n",
    "ui = Ui_MainWindow()\n",
    "ui.setupUi(MainWindow)\n",
    "MainWindow.show()   \n",
    "ui.app = app   \n",
    "app.exec_()\n",
    "print(\"Main End\")"
   ]
  },
  {
   "cell_type": "code",
   "execution_count": null,
   "metadata": {},
   "outputs": [],
   "source": []
  },
  {
   "cell_type": "code",
   "execution_count": null,
   "metadata": {},
   "outputs": [],
   "source": []
  }
 ],
 "metadata": {
  "kernelspec": {
   "display_name": "Python 3",
   "language": "python",
   "name": "python3"
  },
  "language_info": {
   "codemirror_mode": {
    "name": "ipython",
    "version": 3
   },
   "file_extension": ".py",
   "mimetype": "text/x-python",
   "name": "python",
   "nbconvert_exporter": "python",
   "pygments_lexer": "ipython3",
   "version": "3.7.4"
  }
 },
 "nbformat": 4,
 "nbformat_minor": 2
}
